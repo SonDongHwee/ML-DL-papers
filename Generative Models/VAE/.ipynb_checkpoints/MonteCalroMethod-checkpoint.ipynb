{
 "cells": [
  {
   "cell_type": "markdown",
   "metadata": {},
   "source": [
    "# Monte Carlo simulation for computing $\\pi$\n",
    "\n",
    "$$\n",
    "\\frac{1}{N}\\sum^N_{i=1}\\mathbf{1}_{\\{X_{1,i}^2+X_{2,i}^2\\le 1\\}}\n",
    "$$"
   ]
  },
  {
   "cell_type": "code",
   "execution_count": 1,
   "metadata": {},
   "outputs": [
    {
     "name": "stdout",
     "output_type": "stream",
     "text": [
      "Estimate: 3.1392±0.0016\n"
     ]
    }
   ],
   "source": [
    "import torch\n",
    "import math\n",
    "N = 2**20\n",
    "X = torch.rand(N,2)\n",
    "\n",
    "samp = 4.0*((X*X).sum(dim=1)<1)\n",
    "Ihat,s = samp.mean(), samp.var()\n",
    "print(f\"Estimate: {Ihat:.4f}±{math.sqrt(s/N):.4f}\")"
   ]
  },
  {
   "cell_type": "markdown",
   "metadata": {},
   "source": [
    "# Importance sampling example\n",
    "\n",
    "### No, IS large variance\n",
    "Let $X\\sim \\mathcal{N}(0,1)$. Estimate\n",
    "$$\n",
    "\\mathbb{P}(X>3)=0.00135\n",
    "$$\n",
    "with the estimator\n",
    "$$\n",
    "\\hat{I}_N=\\frac{1}{N}\\sum^N_{i=1}\\mathbf{1}_{\\{X_i>3\\}}\n",
    "$$"
   ]
  },
  {
   "cell_type": "code",
   "execution_count": 2,
   "metadata": {},
   "outputs": [
    {
     "name": "stdout",
     "output_type": "stream",
     "text": [
      "Estimate: 0.00293±0.00169\n"
     ]
    }
   ],
   "source": [
    "import torch\n",
    "import math\n",
    "N = 2**10\n",
    "X = torch.normal(0,1,size=(N,1))\n",
    "\n",
    "samp = (X>3).float()\n",
    "Ihat,s = samp.mean(), samp.var()\n",
    "print(f\"Estimate: {Ihat:.5f}±{math.sqrt(s/N):.5f}\")"
   ]
  },
  {
   "cell_type": "markdown",
   "metadata": {},
   "source": [
    "### IS, small variance\n",
    "\n",
    "Let $X\\sim \\mathcal{N}(0,1)$. Estimate\n",
    "$$\n",
    "\\mathbb{P}(X>3)=0.00135\n",
    "$$\n",
    "with the estimator\n",
    "$$\n",
    "\\hat{I}_N=\n",
    "\\frac{1}{N}\\sum^N_{i=1}\\mathbf{1}_{\\{Y_i>3\\}}\\left(\\frac{1}{\\sqrt{2\\pi}}\\exp\\left(-\\frac{Y_i^2}{2}\\right)\\right)/\n",
    "\\left(\\frac{1}{\\sqrt{2\\pi}}\\exp\\left(-\\frac{(Y_i-3)^2}{2}\\right)\\right)\\\\\n",
    "=\n",
    "\\frac{1}{N}\\sum^N_{i=1}\\exp\\left(\\frac{(Y_i-3)^2-Y_i^2}{2}\\right)\n",
    "\\mathbf{1}_{\\{Y_i>3\\}}\n",
    "$$\n",
    "where $Y_i\\sim \\mathcal{N}(3,1)$. This importance sampled estimator has a far smaller variance."
   ]
  },
  {
   "cell_type": "code",
   "execution_count": 3,
   "metadata": {},
   "outputs": [
    {
     "name": "stdout",
     "output_type": "stream",
     "text": [
      "Estimate: 0.00132±0.00008\n"
     ]
    }
   ],
   "source": [
    "import torch\n",
    "import math\n",
    "N = 2**10\n",
    "Y = torch.normal(3,1,size=(N,1))\n",
    "samp = ((Y>3)*torch.exp(((Y-3)**2-Y**2)/2))\n",
    "Ihat,s = samp.mean(), samp.var()\n",
    "print(f\"Estimate: {Ihat:.5f}±{math.sqrt(s/N):.5f}\")"
   ]
  },
  {
   "cell_type": "markdown",
   "metadata": {},
   "source": [
    "#### why $Y_i\\sim \\mathcal{N}(3,1)$ ?\n",
    "\n",
    "as optimal sampling distribution \n",
    "$g(x) = \\frac{\\phi(x)f(x)}{I}$ , here $\\phi(x) = \\mathbf{1}_{x>3}$ and $I = 0.00135$\n",
    "$$\n",
    "$$\n"
   ]
  },
  {
   "cell_type": "markdown",
   "metadata": {},
   "source": [
    "# Log-derivative trick example"
   ]
  },
  {
   "cell_type": "markdown",
   "metadata": {},
   "source": [
    "$$ \\nabla_{\\theta}\\mathbb{E}_{X~f_{\\theta}}[\\phi(X)] = \\nabla_{\\theta}\\int{\\phi(x)f_{\\theta}(x)dx} \n",
    "= \\int{\\phi(x)\\nabla_{\\theta}f_{\\theta}(x)dx} \n",
    "= \\int{\\phi(x)\\frac{\\nabla_{\\theta}f_{\\theta}(x)}{f_{\\theta}(x)}f_{\\theta}(x)dx} \n",
    "= \\mathbb{E}_{X~f_{\\theta}}[\\phi(x)\\nabla_{\\theta}log(f_{\\theta}(X)]$$"
   ]
  },
  {
   "cell_type": "code",
   "execution_count": 21,
   "metadata": {},
   "outputs": [
    {
     "name": "stdout",
     "output_type": "stream",
     "text": [
      "tensor([[4.8041, 5.0064]])\n"
     ]
    }
   ],
   "source": [
    "import torch\n",
    "import math\n",
    "\n",
    "c = torch.tensor([[5.,5.]])\n",
    "mu = torch.tensor([[0.,0.]])\n",
    "lr = 1e-2\n",
    "B = 16\n",
    "iterations = 50  #not epochs, iterations\n",
    "history1 = torch.zeros((iterations+1, 2))\n",
    "\n",
    "for itr in range(iterations):\n",
    "    X = torch.normal(0,1,size=(B,2)) + mu\n",
    "    g = torch.sum(torch.sum((X - c)**2,dim=1).unsqueeze(1)*(X-mu),dim=0)\n",
    "    mu -= lr*g\n",
    "    # save history\n",
    "    history1[itr+1] = mu\n",
    "    \n",
    "print(mu)"
   ]
  },
  {
   "cell_type": "markdown",
   "metadata": {},
   "source": [
    "# Reparameterization trick example"
   ]
  },
  {
   "cell_type": "code",
   "execution_count": 22,
   "metadata": {},
   "outputs": [
    {
     "name": "stdout",
     "output_type": "stream",
     "text": [
      "tensor([[4.9931, 5.0690]])\n"
     ]
    }
   ],
   "source": [
    "import torch\n",
    "import math\n",
    "\n",
    "c = torch.tensor([[5.,5.]])\n",
    "mu = torch.tensor([[0.,0.]])\n",
    "lr = 1e-2\n",
    "B = 16\n",
    "iterations = 50\n",
    "history2 = torch.zeros((iterations+1, 2))\n",
    "\n",
    "for itr in range(iterations):\n",
    "    Y = torch.normal(0,1,size=(B,2))\n",
    "    g = torch.sum(Y+mu-c,dim=0)\n",
    "    mu -= lr*g\n",
    "    # save history\n",
    "    history2[itr+1] = mu    \n",
    "    \n",
    "print(mu)"
   ]
  },
  {
   "cell_type": "code",
   "execution_count": 23,
   "metadata": {},
   "outputs": [
    {
     "data": {
      "image/png": "[encoded data removed]",
      "text/plain": [
       "<Figure size 432x288 with 2 Axes>"
      ]
     },
     "metadata": {
      "needs_background": "light"
     },
     "output_type": "display_data"
    }
   ],
   "source": [
    "import numpy as np\n",
    "import matplotlib.pyplot as plt\n",
    "\n",
    "%matplotlib inline\n",
    "\n",
    "x1 = np.array(history1[:, 0])\n",
    "y1 = np.array(history1[:, 1])\n",
    "\n",
    "x2 = np.array(history2[:, 0])\n",
    "y2 = np.array(history2[:, 1])\n",
    "\n",
    "plt.subplot(1, 2, 1)\n",
    "plt.scatter(0,0, s=100, c='green')\n",
    "plt.scatter(c[0][0],c[0][1], s=100, c='red')\n",
    "plt.plot(x1, y1, linestyle='solid',color='blue')\n",
    "plt.title('log derivative trick')\n",
    "\n",
    "plt.subplot(1, 2, 2)\n",
    "plt.scatter(0,0, s=100, c='green')\n",
    "plt.scatter(c[0][0],c[0][1], s=100, c='red')\n",
    "plt.plot(x2, y2, linestyle='solid',color='blue')\n",
    "plt.title('reparametrization trick')\n",
    "\n",
    "plt.tight_layout()\n",
    "plt.show()\n",
    "#plt.savefig('derivative_trick.png')"
   ]
  },
  {
   "cell_type": "code",
   "execution_count": null,
   "metadata": {},
   "outputs": [],
   "source": []
  }
 ],
 "metadata": {
  "kernelspec": {
   "display_name": "Python 3",
   "language": "python",
   "name": "python3"
  },
  "language_info": {
   "codemirror_mode": {
    "name": "ipython",
    "version": 3
   },
   "file_extension": ".py",
   "mimetype": "text/x-python",
   "name": "python",
   "nbconvert_exporter": "python",
   "pygments_lexer": "ipython3",
   "version": "3.8.5"
  }
 },
 "nbformat": 4,
 "nbformat_minor": 5
}
